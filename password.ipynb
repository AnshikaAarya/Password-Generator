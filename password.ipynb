{
 "cells": [
  {
   "cell_type": "code",
   "execution_count": 2,
   "id": "ce2ace88-e98b-432e-b0d8-cd75bb250f2f",
   "metadata": {},
   "outputs": [
    {
     "name": "stdout",
     "output_type": "stream",
     "text": [
      "Welcome to the Password Generator!\n"
     ]
    },
    {
     "name": "stdin",
     "output_type": "stream",
     "text": [
      "Enter the desired password length:  20\n",
      "Include uppercase letters? (y/n):  n\n",
      "Include lowercase letters? (y/n):  n\n",
      "Include numbers? (y/n):  n\n",
      "Include symbols? (y/n):  y\n"
     ]
    },
    {
     "name": "stdout",
     "output_type": "stream",
     "text": [
      "Generated Password: /$\"$%`,`]);%,/$#}%$^\n"
     ]
    }
   ],
   "source": [
    "import random\n",
    "import string\n",
    "\n",
    "def generate_password(length, include_uppercase=True, include_lowercase=True, include_numbers=True, include_symbols=True):\n",
    "    # Define possible character sets based on user preferences\n",
    "    characters = \"\"\n",
    "    if include_uppercase:\n",
    "        characters += string.ascii_uppercase\n",
    "    if include_lowercase:\n",
    "        characters += string.ascii_lowercase\n",
    "    if include_numbers:\n",
    "        characters += string.digits\n",
    "    if include_symbols:\n",
    "        characters += string.punctuation\n",
    "    \n",
    "    if not characters:\n",
    "        raise ValueError(\"At least one character set must be selected!\")\n",
    "    \n",
    "    # Generate a password by randomly choosing from the selected character sets\n",
    "    password = ''.join(random.choice(characters) for i in range(length))\n",
    "    \n",
    "    return password\n",
    "\n",
    "def main():\n",
    "    print(\"Welcome to the Password Generator!\")\n",
    "    \n",
    "    try:\n",
    "        # User input for password length\n",
    "        length = int(input(\"Enter the desired password length: \"))\n",
    "        \n",
    "        # User preferences for character types\n",
    "        include_uppercase = input(\"Include uppercase letters? (y/n): \").lower() == 'y'\n",
    "        include_lowercase = input(\"Include lowercase letters? (y/n): \").lower() == 'y'\n",
    "        include_numbers = input(\"Include numbers? (y/n): \").lower() == 'y'\n",
    "        include_symbols = input(\"Include symbols? (y/n): \").lower() == 'y'\n",
    "        \n",
    "        # Generate password based on user preferences\n",
    "        password = generate_password(length, include_uppercase, include_lowercase, include_numbers, include_symbols)\n",
    "        print(f\"Generated Password: {password}\")\n",
    "    \n",
    "    except ValueError as e:\n",
    "        print(f\"Error: {e}\")\n",
    "    except Exception as e:\n",
    "        print(f\"An unexpected error occurred: {e}\")\n",
    "\n",
    "if __name__ == \"__main__\":\n",
    "    main()\n"
   ]
  },
  {
   "cell_type": "code",
   "execution_count": null,
   "id": "f920b693-dc9f-4802-8752-828d084078e0",
   "metadata": {},
   "outputs": [],
   "source": []
  }
 ],
 "metadata": {
  "kernelspec": {
   "display_name": "Python 3 (ipykernel)",
   "language": "python",
   "name": "python3"
  },
  "language_info": {
   "codemirror_mode": {
    "name": "ipython",
    "version": 3
   },
   "file_extension": ".py",
   "mimetype": "text/x-python",
   "name": "python",
   "nbconvert_exporter": "python",
   "pygments_lexer": "ipython3",
   "version": "3.11.5"
  }
 },
 "nbformat": 4,
 "nbformat_minor": 5
}
